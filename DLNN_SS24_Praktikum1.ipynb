{
  "cells": [
    {
      "cell_type": "markdown",
      "metadata": {
        "id": "view-in-github",
        "colab_type": "text"
      },
      "source": [
        "<a href=\"https://colab.research.google.com/github/MatzeLopi/KIT-2400024/blob/main/DLNN_SS24_Praktikum1.ipynb\" target=\"_parent\"><img src=\"https://colab.research.google.com/assets/colab-badge.svg\" alt=\"Open In Colab\"/></a>"
      ]
    },
    {
      "cell_type": "markdown",
      "source": [
        "# Praktikum 1 - Simple Neural Network with Numpy and Pytorch\n",
        "\n",
        "Note: the praktikums are for your own practice. They will **not be graded**!\n",
        "\n",
        "You have around one week to work on it. Then we will go over the solutions together in the praktikum time slots!\n",
        "\n",
        "Remember to make a copy of this notebook to your own Colab. Changes made directly here will not be stored!"
      ],
      "metadata": {
        "formattedRanges": [],
        "cell_id": "b471288db3b44cfb992b6c07f7c3fd83",
        "tags": [],
        "is_collapsed": false,
        "deepnote_cell_type": "text-cell-h1",
        "id": "w6spdQYQ2tgd"
      }
    },
    {
      "cell_type": "markdown",
      "source": [
        "In this praktikum, we will build a perceptron model and a Multi-Layer Perceptron (MLP) model **from scratch** with numpy. This is intended to help you understand in details the internal working of neural networks.\n",
        "\n",
        "Next, we will proceed with building an MLP with [**Pytorch**](https://pytorch.org/get-started/locally/), which is a widely-used framework for building deep learning models.\n",
        "\n",
        "Our first challenge is solving the **XOR task** that you've seen in the lecture, before we move to a slightly more complex problem, namely the **Iris dataset**."
      ],
      "metadata": {
        "formattedRanges": [],
        "cell_id": "7b2ab899b012471f80f00f1ff3b7992a",
        "tags": [],
        "is_collapsed": false,
        "deepnote_cell_type": "text-cell-p",
        "id": "xWJ_eyKS2tge"
      }
    },
    {
      "cell_type": "markdown",
      "source": [
        "**Notice**: Whenenver you see an ellipsis `...` or TODO comment, you're supposed to insert code or text answers."
      ],
      "metadata": {
        "cell_id": "dfb46b3d43444b14961ecd9967845ea1",
        "tags": [],
        "deepnote_cell_type": "markdown",
        "deepnote_cell_height": 141.953125,
        "id": "pOIoDJv_2tgf"
      }
    },
    {
      "cell_type": "markdown",
      "source": [
        "## Excercise 1: XOR Task with Single Perceptron (from scratch)"
      ],
      "metadata": {
        "formattedRanges": [],
        "cell_id": "10a3e57eb4844285b70b25bcd41c834e",
        "tags": [],
        "is_collapsed": false,
        "deepnote_cell_type": "text-cell-h2",
        "id": "M8QD3-q02tgg"
      }
    },
    {
      "cell_type": "markdown",
      "source": [
        "XOR (exclusive OR) is a logic function that gives 1 as an output when the number of true inputs is odd, otherwise it outputs a 0. Our goal is to model this function using neurons. We'll start with a single neuron."
      ],
      "metadata": {
        "formattedRanges": [],
        "cell_id": "84d575c151ba447192c5bc8d6bf696e1",
        "tags": [],
        "is_collapsed": false,
        "deepnote_cell_type": "text-cell-p",
        "id": "B4XIvrKj2tgh"
      }
    },
    {
      "cell_type": "markdown",
      "source": [
        "<center><img src=\"https://www.xplore-dna.net/pluginfile.php/286/mod_page/content/21/Tabelle%20-%20XOR.png\" width=\"250\"/></center>"
      ],
      "metadata": {
        "cell_id": "c9900820a8204251a55585f98126c98e",
        "tags": [],
        "deepnote_cell_type": "markdown",
        "deepnote_cell_height": 276.84375,
        "id": "ekh7hOIk2tgh"
      }
    },
    {
      "cell_type": "markdown",
      "source": [
        "Let's start with importing some necessary dependencies that we will need throughout the notebook."
      ],
      "metadata": {
        "formattedRanges": [],
        "cell_id": "eeef0f122a2e45be9ab17634e036b17f",
        "tags": [],
        "is_collapsed": false,
        "deepnote_cell_type": "text-cell-p",
        "id": "RS83rXR82tgi"
      }
    },
    {
      "cell_type": "code",
      "metadata": {
        "cell_id": "95e9b1a1f9494ea89f65aee06be516dc",
        "tags": [],
        "deepnote_cell_type": "code",
        "deepnote_cell_height": 61,
        "id": "-nrjhMBO2tgj"
      },
      "source": [
        "import numpy as np"
      ],
      "execution_count": null,
      "outputs": []
    },
    {
      "cell_type": "markdown",
      "source": [
        "In the first part of this exercise you'll build a perceptron, a single neuron, that takes two binary input values and returns a binary output value.\n",
        "\n",
        "<center><img src=\"https://i.stack.imgur.com/eBSki.jpg\" width=\"280\" />\n",
        "\n",
        "<center><img src=\"\" width=\"280\"/>"
      ],
      "metadata": {
        "cell_id": "39505416089744699256a5844dd99d19",
        "tags": [],
        "deepnote_cell_type": "markdown",
        "deepnote_cell_height": 252.9375,
        "id": "dlGxHaM72tgk"
      }
    },
    {
      "cell_type": "markdown",
      "source": [
        "Perceptron can be seen as a single neuron, mapping an input $\\textbf{x}$ to an output $o$ using weights $\\textbf{w}$ and a bias $b$. $\\cdot$ is the dot product."
      ],
      "metadata": {
        "cell_id": "816aceffd3b045029c7d82becc35489e",
        "tags": [],
        "deepnote_cell_type": "markdown",
        "deepnote_cell_height": 52.390625,
        "id": "I7PmyXz92tgk"
      }
    },
    {
      "cell_type": "markdown",
      "source": [
        "$o = \\textbf{w}\\cdot \\textbf{x}+b$"
      ],
      "metadata": {
        "cell_id": "11a6fcabddb143599d0b7bc55f5cc50c",
        "tags": [],
        "deepnote_cell_type": "markdown",
        "deepnote_cell_height": 52.390625,
        "id": "7UjfCaeq2tgl"
      }
    },
    {
      "cell_type": "markdown",
      "source": [
        "#### Perceptron Update Rule\n",
        "\n",
        "\n",
        "Perceptron Update Rule is a process that is specific to the training of a single-perceptron model, which we can apply to binary classification problems. This process [has been proven to converge](https://www.cs.columbia.edu/~mcollins/courses/6998-2012/notes/perc.converge.pdf) if the data is linearly seperatable and the learning rate is small enough.\n",
        "\n",
        "\n",
        "Let's use it here to have a first baseline."
      ],
      "metadata": {
        "cell_id": "59d21d8a14cf4ffab7daf30a94c91be8",
        "tags": [],
        "deepnote_cell_type": "markdown",
        "deepnote_cell_height": 110.78125,
        "id": "QW5c6tT52tgl"
      }
    },
    {
      "cell_type": "markdown",
      "source": [
        "For classification problems $0>o$ is interpreted as class 1, and $o<0$ is interpreted as class 0."
      ],
      "metadata": {
        "cell_id": "fe3ac47eb7134fbd9e92b9b887dcda12",
        "tags": [],
        "deepnote_cell_type": "markdown",
        "deepnote_cell_height": 52.390625,
        "id": "5dNqpPdd2tgl"
      }
    },
    {
      "cell_type": "markdown",
      "source": [
        "For updating the associated weights, we can use the following update rule:\n",
        "\n",
        "$w_i = w_i + \\nabla w_i$\n",
        "\n",
        "where\n",
        "\n",
        "$\\nabla w_i = \\eta(t-o)x_i$\n",
        "\n",
        "- $t$ is the target\n",
        "- $o$ is the output\n",
        "- $\\eta$ is the learning rate (a small constant)"
      ],
      "metadata": {
        "cell_id": "6454ee77e7e4411f8d341729e17e90a5",
        "tags": [],
        "deepnote_cell_type": "markdown",
        "deepnote_cell_height": 262.734375,
        "id": "CWqEU0Ds2tgl"
      }
    },
    {
      "cell_type": "markdown",
      "source": [
        "### Implementation of a Perceptron"
      ],
      "metadata": {
        "formattedRanges": [],
        "is_collapsed": false,
        "cell_id": "89280b788ec34866ab8f8ead1cc686c3",
        "tags": [],
        "deepnote_cell_type": "text-cell-h3",
        "id": "oCy6z6Ig2tgm"
      }
    },
    {
      "cell_type": "code",
      "source": [
        "class perceptron_implementation():\n",
        "    def __init__(self):\n",
        "        # TODO:\n",
        "        # Initialize weights\n",
        "        # For perceptrons, it's possible to initialize all weights with 0\n",
        "\n",
        "        self.neuron_weights = np.zeros(2)\n",
        "        self.bias = 0\n",
        "\n",
        "    def forward_pass(self, x):\n",
        "        # TODO\n",
        "        output = ...\n",
        "\n",
        "        return output\n",
        "\n",
        "    def perceptron_update_rule(self, target, prediction, x, learning_rate=1):\n",
        "        # Perform perceptron update rule that is defined above\n",
        "        # use self.neuron_weights\n",
        "        # TODO\n",
        "        new_weights = ...\n",
        "\n",
        "        self.neuron_weights = new_weights\n",
        "\n",
        "    def train(self, input_data, targets):\n",
        "        \"\"\"\n",
        "        input_data: Multi-dimensional array that contains all inputs\n",
        "        \"\"\"\n",
        "        # TODO\n",
        "        for x, y in zip(input_data, targets):\n",
        "          ...\n",
        "        # END TODO\n",
        "\n",
        "    def inference(self, input_data):\n",
        "        # TODO\n",
        "        outputs = []\n",
        "        for x in input_data:\n",
        "            ...\n",
        "\n",
        "        return np.array(outputs)"
      ],
      "metadata": {
        "cell_id": "82eb15fa556f4017824bfc25bdfa9b71",
        "tags": [],
        "deepnote_cell_type": "code",
        "deepnote_cell_height": 871,
        "id": "eNs7zHyT2tgm"
      },
      "execution_count": null,
      "outputs": []
    },
    {
      "cell_type": "markdown",
      "source": [
        "### Training"
      ],
      "metadata": {
        "formattedRanges": [],
        "cell_id": "75e4622dce1a4d39b1734879909d04d2",
        "tags": [],
        "is_collapsed": false,
        "deepnote_cell_type": "text-cell-h3",
        "id": "5kpPuTNY2tgn"
      }
    },
    {
      "cell_type": "code",
      "source": [
        "perceptron = perceptron_implementation()\n",
        "\n",
        "# TODO\n",
        "input_data = ...\n",
        "targets = ...\n",
        "\n",
        "# train the corresponding single neuron\n",
        "..."
      ],
      "metadata": {
        "cell_id": "fdac76e29da047579c02f7c61cec4ffc",
        "tags": [],
        "deepnote_cell_type": "code",
        "deepnote_cell_height": 223,
        "id": "k7UXXkGL2tgn"
      },
      "execution_count": null,
      "outputs": []
    },
    {
      "cell_type": "markdown",
      "source": [
        "### Inference"
      ],
      "metadata": {
        "formattedRanges": [],
        "is_collapsed": false,
        "cell_id": "c22027433597480481df2737709639dd",
        "tags": [],
        "deepnote_cell_type": "text-cell-h3",
        "id": "TD9gtzyL2tgn"
      }
    },
    {
      "cell_type": "code",
      "source": [
        "# TODO\n",
        "# Test the trained model\n",
        "\n",
        "predictions = ...\n",
        "print(predictions)"
      ],
      "metadata": {
        "cell_id": "c454d52152ce428c81d51ad9f34fd970",
        "tags": [],
        "deepnote_cell_type": "code",
        "deepnote_cell_height": 151,
        "id": "agv_oJ382tgn"
      },
      "execution_count": null,
      "outputs": []
    },
    {
      "cell_type": "markdown",
      "source": [
        "### Evaluation"
      ],
      "metadata": {
        "formattedRanges": [],
        "cell_id": "85b73e5dbdd14488b836e0dad804b0a3",
        "tags": [],
        "is_collapsed": false,
        "deepnote_cell_type": "text-cell-h3",
        "id": "DcMjb5zH2tgo"
      }
    },
    {
      "cell_type": "markdown",
      "source": [
        "For evaluation, we will need to consider appropriate metrics. For classification tasks, **accuracy** is one of the most common metrics.\n",
        "\n",
        "It is defined as:\n",
        "\n",
        "$\\textrm{Accuracy}=\\frac{1}{N}\\sum_i^N1(y_i=\\hat{y}_i)$\n",
        "\n",
        "where $y$ is an array of our target values, and $\\hat{y}$ is an array of our predictions.\n",
        "\n",
        "For accuracy, if outputs are probabilities, there needs to be a threshold for transforming logit predictions to binary `(0,1)` predictions. We will set this threshold to `0.5`. For our perceptron this is not needed, since we already output binary values, however, we will use the `accuracy` function later on, so the predictions should be considered to be probabilities."
      ],
      "metadata": {
        "cell_id": "e76ebc19dbad44988015c11187bd7969",
        "tags": [],
        "deepnote_cell_type": "markdown",
        "deepnote_cell_height": 243.34375,
        "id": "ETEW4Rhp2tgo"
      }
    },
    {
      "cell_type": "code",
      "source": [
        "def accuracy(predictions: np.ndarray, targets: np.ndarray, threshold=0.5) -> float:\n",
        "    # TODO\n",
        "    # Implement the accuracy metric\n",
        "    ...\n",
        "    # END TODO\n",
        "    return accuracy_value"
      ],
      "metadata": {
        "id": "kpPwA9EeGm_Q"
      },
      "execution_count": null,
      "outputs": []
    },
    {
      "cell_type": "code",
      "metadata": {
        "cell_id": "65abd9e35d404aa5af91b1ab7d74147b",
        "tags": [],
        "deepnote_cell_type": "code",
        "deepnote_cell_height": 259,
        "id": "xJCPWPYj2tgo"
      },
      "source": [
        "# TODO\n",
        "# Call accuracy function and provide necessary inputs to calculate accuracy\n",
        "accuracy_value = ...\n",
        "print(accuracy_value)"
      ],
      "execution_count": null,
      "outputs": []
    },
    {
      "cell_type": "markdown",
      "source": [
        "You will see that it is not possible to get to 100% accuracy, since XOR is not a linear-separatable problem."
      ],
      "metadata": {
        "id": "vKSQ8rFEB5Q7"
      }
    },
    {
      "cell_type": "markdown",
      "source": [
        "## Excercise 2: XOR Task with MLP (from scratch)\n",
        "\n",
        "As mentioned in the lecture, unlike a single perceptron, Multi-Layer Perceptron (MLP) can deal with problems that are non-linearly-separatable like XOR.\n",
        "\n",
        "Now we will try to implement an MLP with 3 hidden layers and a hidden dimension of 3. We will also add an activiation function to introduce nonlinearity in our hidden layers.\n",
        "\n",
        "<img src=\"https://i.imgur.com/IUQ05Ol.png\">"
      ],
      "metadata": {
        "formattedRanges": [],
        "cell_id": "ed9c69e1f9d7460b89f6899e938a68bf",
        "tags": [],
        "is_collapsed": false,
        "deepnote_cell_type": "text-cell-h2",
        "id": "9zwDNf042tgs"
      }
    },
    {
      "cell_type": "markdown",
      "source": [
        "### Initializing Weights"
      ],
      "metadata": {
        "formattedRanges": [],
        "cell_id": "df9ec443c0284dc4a52c55b8caa88358",
        "tags": [],
        "is_collapsed": false,
        "deepnote_cell_type": "text-cell-h3",
        "id": "UQdPsvFa2tgq"
      }
    },
    {
      "cell_type": "markdown",
      "source": [
        "Xavier intitialization is commonly used to initialize the weights of a network. It is a random uniform distribution that’s bounded between $\\pm\\frac{\\sqrt{6}}{\\sqrt{n_i+n_{i+1}}}$ where $n_i$ is the number of incoming network connections, and $n_{i+1}$ is the number of outgoing network connections."
      ],
      "metadata": {
        "cell_id": "c251b1998be74c5fbc41cd1d47edaa88",
        "tags": [],
        "deepnote_cell_type": "markdown",
        "deepnote_cell_height": 101.46875,
        "id": "lV-m23SR2tgq"
      }
    },
    {
      "cell_type": "code",
      "metadata": {
        "cell_id": "6b33fda27eb04ef2ad06126f77cc4dfe",
        "tags": [],
        "deepnote_cell_type": "code",
        "deepnote_cell_height": 97,
        "id": "AAONnAXQ2tgq"
      },
      "source": [
        "def xavier_initialization(input_size, output_size) -> np.ndarray:\n",
        "    \"\"\" Returns a numpy array of initialized weights \"\"\"\n",
        "    bound = np.sqrt(6) / np.sqrt(input_size + output_size)\n",
        "    weights = np.random.uniform(-bound, bound, size=(input_size, output_size))\n",
        "    return weights\n"
      ],
      "execution_count": null,
      "outputs": []
    },
    {
      "cell_type": "markdown",
      "source": [
        "### Feed-Forward Layer\n"
      ],
      "metadata": {
        "cell_id": "153fa06156c54bdc8e8b10a85a586dd5",
        "tags": [],
        "deepnote_cell_type": "markdown",
        "deepnote_cell_height": 341.78125,
        "id": "oaSce1El2tgq"
      }
    },
    {
      "cell_type": "markdown",
      "source": [
        "A feed-forward layer applies a linear transformation to the input $x$ using a weight matrix $\\textbf{W}$ and a bias vector $b$:\n",
        "\n",
        "$z = x\\textbf{W}^T+b$\n",
        "\n",
        "Derivatives:\n",
        "$$\n",
        "\\dfrac{dz}{dw_i} = x_i\n",
        "$$\n",
        "\n",
        "$$\n",
        "\\dfrac{dz}{db} = 1\n",
        "$$\n",
        "\n",
        "$$\n",
        "\\dfrac{dz}{dx_i} = w_i\n",
        "$$"
      ],
      "metadata": {
        "id": "jnpzAe_5LI_E"
      }
    },
    {
      "cell_type": "code",
      "source": [
        "class FeedForwardLayer():\n",
        "    def __init__(self, input_size, output_size):\n",
        "        \"\"\"\n",
        "        Args:\n",
        "            input_size (int): Input shape of the layer\n",
        "            output_size (int): Output of the layer\n",
        "        \"\"\"\n",
        "        # initialize weights with Xavier intitialization and biases with zeros\n",
        "        self.weights = xavier_initialization(input_size, output_size)\n",
        "        self.biases = np.zeros((1, output_size))\n",
        "\n",
        "    def forward(self, x):\n",
        "        \"\"\"\n",
        "        Forward pass\n",
        "\n",
        "        Args:\n",
        "            x (Tensor): input to the layer\n",
        "        \"\"\"\n",
        "        self.x = x\n",
        "\n",
        "        # Calculate the output\n",
        "        output = ...\n",
        "\n",
        "        return output\n",
        "\n",
        "    def backward(self, d_values, learning_rate):\n",
        "        \"\"\"\n",
        "        Backpropagation\n",
        "\n",
        "        Args:\n",
        "            d_values (float): Derivative of the output\n",
        "            learning_rate (float): Learning rate for gradient descent\n",
        "        \"\"\"\n",
        "\n",
        "        # Calculate the derivative with respect to the weight and bias (one with weight and one with bias)\n",
        "        d_weights = ...\n",
        "        d_biases = ...\n",
        "\n",
        "        # Calculate the gradient with respect to the input\n",
        "        d_inputs = ...\n",
        "\n",
        "        # Update the weights and biases using the learning rate and their derivatives\n",
        "        self.weights = ...\n",
        "        self.biases = ...\n",
        "\n",
        "        return d_inputs"
      ],
      "metadata": {
        "id": "Yq1EOJNOVktK"
      },
      "execution_count": null,
      "outputs": []
    },
    {
      "cell_type": "markdown",
      "source": [
        "**Question**: Why do we need to calculate `d_weights`, `d_biases` and `d_inputs`?\n",
        "\n",
        "**Answer**: ..."
      ],
      "metadata": {
        "id": "NaTvv5u_Haba"
      }
    },
    {
      "cell_type": "markdown",
      "source": [
        "### Adding Nonlinearity"
      ],
      "metadata": {
        "formattedRanges": [],
        "cell_id": "5f712a71667a48fba5caf101171168cb",
        "tags": [],
        "is_collapsed": false,
        "deepnote_cell_type": "text-cell-h3",
        "id": "KbVJQkvx2tgt"
      }
    },
    {
      "cell_type": "markdown",
      "source": [
        "For nonlinearity, you should implement Rectified Linear Unit (ReLU) and apply it between the hidden layers to provide nonlinearity to the network.\n",
        "\n",
        "$$ y = max(0, x) $$\n",
        "\n",
        "When we examine the ReLU behavior, it looks like it is the combination of two different linear functions. This property makes the training easier yet effective since ReLU does not have any learnable parameters as well as easy to apply because of combination of two simple linear functions.\n",
        "\n",
        "\n",
        "\n",
        "<center><figure><img src=\"https://machinelearningmastery.com/wp-content/uploads/2018/10/Line-Plot-of-Rectified-Linear-Activation-for-Negative-and-Positive-Inputs.png\" width=\"450\"/><figcaption>Graph of the ReLU activation function. <a href=\"https://machinelearningmastery.com/wp-content/uploads/2018/10/Line-Plot-of-Rectified-Linear-Activation-for-Negative-and-Positive-Inputs.png\">Image source</a></figcaption></figure></center>\n",
        "\n",
        "\n",
        "Derivative of ReLU:\n",
        "\n",
        "$\\dfrac{dy}{dx} = 1 $ if $x >= 0$\n",
        "\n",
        "$\\dfrac{dy}{dx} = 0 $ if $x < 0$"
      ],
      "metadata": {
        "cell_id": "a4f3d994ea8c4a7892f2c1f1f1d71082",
        "tags": [],
        "owner_user_id": "06b28ca6-80fe-4ecd-a509-50438de77bba",
        "deepnote_cell_type": "markdown",
        "deepnote_cell_height": 651.015625,
        "id": "TJx_JZbl2tgt"
      }
    },
    {
      "cell_type": "code",
      "metadata": {
        "cell_id": "9ea233c84766446f966fa64794d2d63f",
        "tags": [],
        "deepnote_cell_type": "code",
        "deepnote_cell_height": 349,
        "id": "8W-5egab2tgt"
      },
      "source": [
        "class ReluActivationFunction():\n",
        "\n",
        "    def forward(self, x):\n",
        "        # TODO\n",
        "        self.x = x\n",
        "        output = ...\n",
        "\n",
        "        return output\n",
        "\n",
        "    def backward(self, d_values):\n",
        "        # calculate the gradients with help of the derivative\n",
        "        d_inputs = ...\n",
        "        return d_inputs\n",
        "\n"
      ],
      "execution_count": null,
      "outputs": []
    },
    {
      "cell_type": "markdown",
      "source": [
        "### Backpropagation\n",
        "\n",
        "The perceptron algorithm can't be generalized to MLP, that's why we will now use **backpropagation**.\n",
        "\n",
        "<center><img src=\"https://i.imgur.com/LgBzpYD.png\" width=\"400\" /></center>"
      ],
      "metadata": {
        "cell_id": "aaab44ed0b0948398d7bc4258dee27ab",
        "tags": [],
        "deepnote_cell_type": "markdown",
        "deepnote_cell_height": 267.75,
        "id": "jc6g4n0-2tgp"
      }
    },
    {
      "cell_type": "markdown",
      "source": [
        "### Loss Function: Binary Cross Entropy\n",
        "\n",
        "Backpropagation requires us to have a **loss function**."
      ],
      "metadata": {
        "formattedRanges": [],
        "is_collapsed": false,
        "cell_id": "6360b3c0360d4193981ac91f621abef8",
        "tags": [],
        "deepnote_cell_type": "text-cell-h3",
        "id": "0AumYOUd2tgp"
      }
    },
    {
      "cell_type": "markdown",
      "source": [
        "$$ L = - (y \\times ln(o)+(1-y) \\times ln(1-o)) $$\n",
        "\n",
        "[Derivative](https://www.google.com/search?q=cross+entropy+loss+derivative&sca_esv=6915796dc894fc83&sca_upv=1&rlz=1C5CHFA_enVN752VN752&udm=2&biw=1309&bih=708&sxsrf=ACQVn09fs99X4SFZJk0xmct6PWrepRzpxQ%3A1713181875984&ei=sxQdZuGxO8eE9u8P9oiI6AI&ved=0ahUKEwih15zpk8SFAxVHgv0HHXYEAi0Q4dUDCBA&uact=5&oq=cross+entropy+loss+derivative&gs_lp=Egxnd3Mtd2l6LXNlcnAiHWNyb3NzIGVudHJvcHkgbG9zcyBkZXJpdmF0aXZlMgQQIxgnMgUQABiABDIHEAAYgAQYGEjkBVDRA1jRA3ACeACQAQCYATCgATCqAQExuAEDyAEA-AEBmAIBoAIzmAMAiAYBkgcBMaAHsAM&sclient=gws-wiz-serp#vhid=fKdGq3KS8we6mM&vssid=mosaic):\n",
        "\n",
        "$$\n",
        "\\dfrac{dL}{do} = \\dfrac{-y}{o} + \\dfrac{1-y}{1-o}\n",
        "$$"
      ],
      "metadata": {
        "cell_id": "52577f99ec9d4cb5918a774edbe97d63",
        "tags": [],
        "deepnote_cell_type": "markdown",
        "deepnote_cell_height": 89.390625,
        "id": "Z53G5Bwn2tgp"
      }
    },
    {
      "cell_type": "code",
      "metadata": {
        "cell_id": "f8f969c517f24b28b485149b9bdfd8c5",
        "tags": [],
        "deepnote_cell_type": "code",
        "deepnote_cell_height": 295,
        "id": "BtsbaLuL2tgq"
      },
      "source": [
        "class BinaryCrossEntropy():\n",
        "\n",
        "    def forward(self, output, target):\n",
        "\n",
        "        # TODO\n",
        "        # implement Binary Cross-Entrops loss function for output, target\n",
        "\n",
        "        loss = ...\n",
        "\n",
        "        # END TODO\n",
        "        return loss\n",
        "\n",
        "    def backward(self, output, target):\n",
        "        # Calculate the gradient with respect to the output\n",
        "        return ..."
      ],
      "execution_count": null,
      "outputs": []
    },
    {
      "cell_type": "markdown",
      "source": [
        "### Sigmoid Activation Function"
      ],
      "metadata": {
        "formattedRanges": [],
        "is_collapsed": false,
        "cell_id": "207132d07fec4fe887a8ce578307e95a",
        "tags": [],
        "deepnote_cell_type": "text-cell-h3",
        "id": "NHAGXyrR2tgp"
      }
    },
    {
      "cell_type": "markdown",
      "source": [
        "For a binary classification problem, we can use the sigmoid activation function in the output layer which outputs values in the range of 0 and 1. So, for a positive case (class 1), we can interpret $p_1 = \\sigma(o)$ as the probability of that class, while $p_0 = 1 - p_1$ can be seen the probability of the negative case (class 0).\n",
        "\n",
        "**Sigmoid function**:\n",
        "$$\n",
        "\\sigma(x) = \\dfrac{1}{1 + e^{-x}}\n",
        "$$\n",
        "\n",
        "[Derivative](https://hausetutorials.netlify.app/posts/2019-12-01-neural-networks-deriving-the-sigmoid-derivative/#:~:text=The%20derivative%20of%20the%20sigmoid%20function%20%CF%83(x)%20is%20the,1%E2%88%92%CF%83(x).):\n",
        "$$\n",
        "\\dfrac{d\\sigma}{dx} = \\sigma(x)(1-\\sigma(x))\n",
        "$$\n",
        "\n"
      ],
      "metadata": {
        "cell_id": "b75c8af994a84628af79cb6906e06842",
        "tags": [],
        "deepnote_cell_type": "markdown",
        "deepnote_cell_height": 97.171875,
        "id": "y-LgMkeC2tgp"
      }
    },
    {
      "cell_type": "code",
      "metadata": {
        "cell_id": "f3ee1efc24284dfc836bb18198f6a1e8",
        "tags": [],
        "deepnote_cell_type": "code",
        "deepnote_cell_height": 295,
        "id": "p9nIIYj02tgp"
      },
      "source": [
        "def sigmoid(x):\n",
        "    return ...\n",
        "\n",
        "class SigmoidActivationFunction():\n",
        "\n",
        "    def forward(self, x):\n",
        "        # TODO\n",
        "        # implement Sigmoid function for the input_data\n",
        "        self.x = x\n",
        "\n",
        "        output = ...\n",
        "\n",
        "        return output\n",
        "\n",
        "    def backward(self, d_values):\n",
        "        # calculate the gradients with help of the derivative\n",
        "        return ..."
      ],
      "execution_count": null,
      "outputs": []
    },
    {
      "cell_type": "markdown",
      "source": [
        "### Implementation\n",
        "\n",
        "Now let's put together the components you have implemented so far to our MLP:"
      ],
      "metadata": {
        "is_collapsed": false,
        "cell_id": "e731239aef1b43b6a1b58b47a03f0682",
        "tags": [],
        "formattedRanges": [],
        "deepnote_cell_type": "text-cell-h3",
        "id": "RJYI8_GE2tgs"
      }
    },
    {
      "cell_type": "code",
      "source": [
        "class MLP_implementation():\n",
        "    def __init__(self,\n",
        "        input_size,\n",
        "        output_size,\n",
        "        hidden_layers,\n",
        "        hidden_layers_size,\n",
        "        hidden_activation_func,\n",
        "        output_activation_function,\n",
        "        loss_function,\n",
        "    ):\n",
        "        self.hidden_layers = hidden_layers\n",
        "        self.hidden_layers_size = hidden_layers_size\n",
        "        self.hidden_activation_func = hidden_activation_func\n",
        "        self.loss_function = loss_function\n",
        "        self.output_activation_function = output_activation_function\n",
        "        self.layers = []\n",
        "\n",
        "        # Initialize hidden layers\n",
        "        for i in range(hidden_layers):\n",
        "            if i == 0:\n",
        "                layer = ...\n",
        "            else:\n",
        "                layer = ...\n",
        "            self.layers.append(layer)\n",
        "\n",
        "        # Initialize output layer\n",
        "        self.output_layer = ...\n",
        "\n",
        "    def forward_pass(self, x):\n",
        "        ...\n",
        "\n",
        "        return output\n",
        "\n",
        "    def backward_pass(self, d_values, learning_rate):\n",
        "        # Backpropagate through output layer\n",
        "        d_values = self.output_activation_function.backward(d_values)\n",
        "        ...\n",
        "\n",
        "        # Backpropagate through hidden layers\n",
        "        for layer in reversed(self.layers):\n",
        "            ...\n",
        "\n",
        "\n",
        "    def train(self, input_data, targets, learning_rate=1, epochs=1):\n",
        "        for epoch in range(epochs):\n",
        "            random_order = np.random.permutation(np.array(range(len(input_data))))\n",
        "            for i in random_order:\n",
        "                # Forward pass\n",
        "                output = ...\n",
        "\n",
        "                # Calculate loss\n",
        "                loss = ...\n",
        "\n",
        "                # Backward pass\n",
        "                ...\n",
        "\n",
        "    def inference(self, input_data):\n",
        "        output = []\n",
        "        for i in range(len(input_data)):\n",
        "            ...\n",
        "        return np.array(output)\n"
      ],
      "metadata": {
        "cell_id": "163c21039acf4345856cc2d1fec878d7",
        "tags": [],
        "deepnote_cell_type": "code",
        "deepnote_cell_height": 997,
        "id": "7kB5OBuF2tgs"
      },
      "execution_count": null,
      "outputs": []
    },
    {
      "cell_type": "markdown",
      "source": [
        "### MLP Inititialization"
      ],
      "metadata": {
        "is_collapsed": false,
        "cell_id": "f3eb7f63f1ef4b76907870481e5dde3e",
        "tags": [],
        "formattedRanges": [],
        "deepnote_cell_type": "text-cell-h3",
        "id": "0l6UYSco2tgt"
      }
    },
    {
      "cell_type": "code",
      "source": [
        "# Initialize MLP\n",
        "xor_mlp = MLP_implementation(\n",
        "    ...\n",
        ")\n",
        "\n"
      ],
      "metadata": {
        "cell_id": "c463f6ca71c64121a27152c58878f53f",
        "tags": [],
        "deepnote_cell_type": "code",
        "deepnote_cell_height": 79,
        "id": "oUEAOGUT2tgt"
      },
      "outputs": [],
      "execution_count": null
    },
    {
      "cell_type": "markdown",
      "source": [
        "### Training"
      ],
      "metadata": {
        "formattedRanges": [],
        "cell_id": "43d7dc2d8c4448f7ac6aaf1c084f695a",
        "tags": [],
        "is_collapsed": false,
        "deepnote_cell_type": "text-cell-h3",
        "id": "CyX7sj5Q2tgu"
      }
    },
    {
      "cell_type": "code",
      "metadata": {
        "cell_id": "5f343b3459d246c8a0b8cdd5fc07a6c7",
        "tags": [],
        "deepnote_cell_type": "code",
        "deepnote_cell_height": 115,
        "id": "hoi1RVs_2tgu"
      },
      "source": [
        "# TODO\n",
        "input_data = ...\n",
        "targets = ...\n",
        "\n",
        "xor_mlp.train(input_data, targets, learning_rate=0.05, epochs=2500)"
      ],
      "execution_count": null,
      "outputs": []
    },
    {
      "cell_type": "markdown",
      "source": [
        "### Evaluation"
      ],
      "metadata": {
        "formattedRanges": [],
        "cell_id": "be53793e58d24e8a847e7819c7c8b3ce",
        "tags": [],
        "is_collapsed": false,
        "deepnote_cell_type": "text-cell-h3",
        "id": "JSdR2IVW2tgu"
      }
    },
    {
      "cell_type": "code",
      "metadata": {
        "cell_id": "04807c8322c24ced887c6cb5df3d7f32",
        "tags": [],
        "deepnote_cell_type": "code",
        "deepnote_cell_height": 115,
        "id": "yKDqNb5f2tgu"
      },
      "source": [
        "# Test and evaluate your new model as in the previous task\n",
        "# TODO\n",
        "predictions = ...\n",
        "accuracy_value = ...\n",
        "print(accuracy_value)"
      ],
      "execution_count": null,
      "outputs": []
    },
    {
      "cell_type": "markdown",
      "source": [
        "You will now be able to get to 100% accuracy on the XOR task with MLP!!\n",
        "\n",
        "If you are interested, you can see this [demo](https://lecture-demo.iar.kit.edu/neural-network-demo/) to see how the decision boundaries are found by the MLPs."
      ],
      "metadata": {
        "id": "mct9npwKG-Md"
      }
    },
    {
      "cell_type": "markdown",
      "source": [
        "## Excercise 3: XOR Task with MLP (using Pytorch)\n",
        "\n",
        "Everything could have been much easier!\n",
        "\n",
        "The excercises so far is only for you to undertand the internal details of training a neural network. In practice, we do not have to implement the forward and backward pass of the common function by hand. All can be taken care of by Pytorch!\n",
        "\n",
        "Look up the Pytorch documentation, and fill in the following blocks of code to build the same MLP with Pytorch:"
      ],
      "metadata": {
        "id": "ceADx2coCFh2"
      }
    },
    {
      "cell_type": "markdown",
      "source": [
        "### Defining the model"
      ],
      "metadata": {
        "id": "B2o1Yh9LFRiW"
      }
    },
    {
      "cell_type": "code",
      "source": [
        "import torch\n",
        "import torch.nn as nn\n",
        "\n",
        "xor_mlp_pytorch = nn.Sequential(\n",
        "    ...\n",
        ")"
      ],
      "metadata": {
        "id": "phWDZI1JFcLG"
      },
      "execution_count": null,
      "outputs": []
    },
    {
      "cell_type": "markdown",
      "source": [
        "### Initializing weights"
      ],
      "metadata": {
        "id": "xK6e49IHFfGx"
      }
    },
    {
      "cell_type": "code",
      "source": [
        "# Init weights\n",
        "def init_weights(m):\n",
        "    if isinstance(m, nn.Linear):\n",
        "        nn.init.xavier_uniform_(m.weight)\n",
        "        if m.bias is not None:\n",
        "            nn.init.constant_(m.bias, 0)\n",
        "\n",
        "# Apply the initialization to the model\n",
        "xor_mlp_pytorch.apply(init_weights)"
      ],
      "metadata": {
        "id": "WSyW-ZnBFlaw"
      },
      "execution_count": null,
      "outputs": []
    },
    {
      "cell_type": "markdown",
      "source": [
        "### Loss Function: Binary Cross Entropy"
      ],
      "metadata": {
        "id": "6hW18Dv4FnhK"
      }
    },
    {
      "cell_type": "code",
      "source": [
        "loss_fn = ..."
      ],
      "metadata": {
        "id": "5srvaMyoFvrU"
      },
      "execution_count": null,
      "outputs": []
    },
    {
      "cell_type": "markdown",
      "source": [
        "### Optimizer: Stochastic gradient descent"
      ],
      "metadata": {
        "id": "G488ldnEFxpj"
      }
    },
    {
      "cell_type": "code",
      "source": [
        "optimizer = ..."
      ],
      "metadata": {
        "id": "TMKoSgccF8jm"
      },
      "execution_count": null,
      "outputs": []
    },
    {
      "cell_type": "markdown",
      "source": [
        "### Training"
      ],
      "metadata": {
        "id": "ho2rKdqvGAmm"
      }
    },
    {
      "cell_type": "markdown",
      "source": [
        "Below we provide you with a simple training loop.\n",
        "\n",
        "For the first two epochs, print out the gradient and the values some weights of the network.\n",
        "\n",
        "**Question**:\n",
        "- Explain what happens after each step in the training loop.\n",
        "- Why do we need `optimizer.zero_grad()` here? When should we NOT use it?"
      ],
      "metadata": {
        "id": "JcwMbd2_KSXF"
      }
    },
    {
      "cell_type": "markdown",
      "source": [
        "**Answer**: ...\n"
      ],
      "metadata": {
        "id": "2iUsnqNSoSWp"
      }
    },
    {
      "cell_type": "code",
      "source": [
        "# Define our data\n",
        "input_data_tensor = torch.tensor([[0,0], [0,1], [1,0], [1,1]], dtype=torch.float)\n",
        "targets_tensor = torch.unsqueeze(\n",
        "    torch.tensor([0,1,1,0], dtype=torch.float), 1\n",
        ")\n",
        "\n",
        "# Training loop\n",
        "epochs = 2500\n",
        "for epoch in range(epochs):\n",
        "\n",
        "    optimizer.zero_grad()\n",
        "    if epoch < 2:\n",
        "        print(...)\n",
        "\n",
        "    output = xor_mlp_pytorch(input_data_tensor)\n",
        "    if epoch < 2:\n",
        "        print(...)\n",
        "\n",
        "\n",
        "    loss = loss_fn(output, targets_tensor)\n",
        "    if epoch < 2:\n",
        "        print(...)\n",
        "\n",
        "\n",
        "    loss.backward()\n",
        "    if epoch < 2:\n",
        "        print(...)\n",
        "\n",
        "    optimizer.step()\n",
        "    if epoch < 2:\n",
        "        print(...)\n"
      ],
      "metadata": {
        "id": "EcIT01QxCLPb"
      },
      "execution_count": null,
      "outputs": []
    },
    {
      "cell_type": "markdown",
      "source": [
        "Follow the loss in the backward direction, using its `.grad_fn` attribute too see the computation graph:"
      ],
      "metadata": {
        "id": "oYcyR0S1qEQj"
      }
    },
    {
      "cell_type": "code",
      "source": [
        "print(...)\n",
        "print(...)\n",
        "print(...)\n"
      ],
      "metadata": {
        "id": "CrSFiY6phlAq"
      },
      "execution_count": null,
      "outputs": []
    },
    {
      "cell_type": "markdown",
      "source": [
        "### Evaluation"
      ],
      "metadata": {
        "id": "ZBD9_kRXGLlx"
      }
    },
    {
      "cell_type": "code",
      "source": [
        "predictions = ...\n",
        "accuracy_value = ...\n",
        "print(accuracy_value)\n"
      ],
      "metadata": {
        "id": "zbZ6oW3CGU6K"
      },
      "execution_count": null,
      "outputs": []
    },
    {
      "cell_type": "markdown",
      "source": [
        "## Excercise 4: Iris Dataset 🌷 task with MLP (using Pytorch)"
      ],
      "metadata": {
        "formattedRanges": [],
        "cell_id": "47b0a74bd12b4a3b9a395514d0b7683b",
        "tags": [],
        "is_collapsed": false,
        "deepnote_cell_type": "text-cell-h2",
        "id": "P1rqjyq42tgu"
      }
    },
    {
      "cell_type": "markdown",
      "source": [
        "Iris is a genus of hundreds of species of flowering plants with showy flowers. The Iris data set consists of 150 samples from three species of Iris which are hard to distinguish (Iris setosa, Iris virginica and Iris versicolor). There are four features from each sample: the length and the width of the sepals and petals, in centimeters. Based on these features, the goal is to predict which species of Iris the sample belongs to.\n",
        "\n",
        "\n",
        "For this exercise, you need to enable GPUs for this notebook:\n",
        "\n",
        "- Navigate to \"**Edit**\" → \"**Notebook Settings**\"\n",
        "- Select GPU from the **Hardware Accelerator** drop-down\n",
        "- You might need to rerun the notebook\n",
        "\n",
        "Next, we'll check if we can connect to the GPU with PyTorch:"
      ],
      "metadata": {
        "formattedRanges": [],
        "cell_id": "8d25765564d04e78b0a65b42ba08d5b4",
        "tags": [],
        "is_collapsed": false,
        "deepnote_cell_type": "text-cell-p",
        "id": "gsMh6WiW2tgu"
      }
    },
    {
      "cell_type": "code",
      "source": [
        "if torch.cuda.is_available():\n",
        "    device = torch.cuda.current_device()\n",
        "    print('Current device:', torch.cuda.get_device_name(device))\n",
        "else:\n",
        "    print('Failed to find GPU. Will use CPU.')\n",
        "    device = 'cpu'"
      ],
      "metadata": {
        "id": "l23EV0A92F1J"
      },
      "execution_count": null,
      "outputs": []
    },
    {
      "cell_type": "markdown",
      "source": [
        "###  Loading Dataset"
      ],
      "metadata": {
        "cell_id": "d853a4f5816e49a6ac838230e0655087",
        "tags": [],
        "deepnote_cell_type": "markdown",
        "deepnote_cell_height": 62,
        "id": "lIB2XdFb2tgv"
      }
    },
    {
      "cell_type": "code",
      "metadata": {
        "cell_id": "263a53c7e9754ea488149500a7842994",
        "tags": [],
        "deepnote_cell_type": "code",
        "deepnote_cell_height": 187,
        "id": "eMgXi4pF2tgv"
      },
      "source": [
        "from sklearn.datasets import load_iris\n",
        "from sklearn.model_selection import train_test_split\n",
        "import torch\n",
        "\n",
        "iris = load_iris()\n",
        "X, y = iris.data, iris.target\n",
        "num_classes = 3\n",
        "\n"
      ],
      "execution_count": null,
      "outputs": []
    },
    {
      "cell_type": "markdown",
      "source": [
        "Process the data.\n",
        "\n",
        "**Question**: Is there anything we need to do with the default target? Why?\n",
        "\n",
        "**Answer**: ..."
      ],
      "metadata": {
        "id": "cEtvK8_Ilg8N"
      }
    },
    {
      "cell_type": "code",
      "source": [
        "# Split the dataset into training and test dataset\n",
        "# TODO\n",
        "X_train, X_test, y_train, y_test = ...\n",
        "\n",
        "# Process the data\n",
        "# TODO\n",
        "y_train_one_hot = ...\n",
        "y_test_one_hot = ...\n",
        "\n"
      ],
      "metadata": {
        "id": "gTJGr3RVltFT"
      },
      "execution_count": null,
      "outputs": []
    },
    {
      "cell_type": "markdown",
      "source": [
        "### Architecture"
      ],
      "metadata": {
        "formattedRanges": [],
        "cell_id": "379f8681cb0f4d54bdb2a83938685764",
        "tags": [],
        "is_collapsed": false,
        "deepnote_cell_type": "text-cell-h3",
        "id": "TaCmfbHE2tgw"
      }
    },
    {
      "cell_type": "markdown",
      "source": [
        "We will again use an MLP for this task (with Pytorch).\n",
        "\n",
        "Intitialize a model with **4 hidden layers** and a **hidden layer size of 768**.\n",
        "\n",
        "**Question**: Is there any else we should change when building the MLP to fit this task?\n",
        "\n",
        "**Hint**: it is no longer a binary classification problem"
      ],
      "metadata": {
        "cell_id": "a9ab559f86de48bd8f2ee8f13a64fbda",
        "tags": [],
        "deepnote_cell_type": "markdown",
        "deepnote_cell_height": 52.390625,
        "id": "rT-aJ-3f2tgw"
      }
    },
    {
      "cell_type": "markdown",
      "source": [
        "**Answer:** ..."
      ],
      "metadata": {
        "id": "QheJG1r0wp-s"
      }
    },
    {
      "cell_type": "code",
      "source": [
        "# Defining the model\n",
        "xor_mlp_pytorch = nn.Sequential(\n",
        "    ...\n",
        ")\n",
        "\n",
        "# Apply the initialization to the model\n",
        "xor_mlp_pytorch.apply(init_weights)\n",
        "\n",
        "# Defining loss function: Cross Entropy Loss\n",
        "loss_fn = ...\n",
        "\n",
        "# Defining optimizer: Stochastic gradient descent\n",
        "optimizer = ...\n"
      ],
      "metadata": {
        "id": "kuuDwsJ77J1l"
      },
      "execution_count": null,
      "outputs": []
    },
    {
      "cell_type": "markdown",
      "source": [
        "### Training\n",
        "\n",
        "As you have learnt from the lecture, we can speed up the training process by **batching** and using **GPUs**. Modify the following code for batching and GPUs.\n",
        "\n",
        "You can also run the code before and after you make changes to see the speed up gain from batching and using GPU.\n",
        "\n",
        "**Hints**: You can make use of Pytorch's `DataLoader`"
      ],
      "metadata": {
        "formattedRanges": [],
        "cell_id": "651c8f0d9ea44ddc9ab7ad6aa7183498",
        "tags": [],
        "is_collapsed": false,
        "deepnote_cell_type": "text-cell-h3",
        "id": "lPRWF1BF2tgw"
      }
    },
    {
      "cell_type": "markdown",
      "source": [
        "**Question**: Report the execution time with and without GPU and batching.\n",
        "\n",
        "**Answer**: ..."
      ],
      "metadata": {
        "id": "ojseAt7t3Is1"
      }
    },
    {
      "cell_type": "code",
      "source": [
        "# Training loop\n",
        "epochs = 500\n",
        "for epoch in range(epochs):\n",
        "    optimizer.zero_grad()\n",
        "    output = xor_mlp_pytorch(X_train)\n",
        "    loss = loss_fn(output, y_train_one_hot)\n",
        "    loss.backward()\n",
        "    optimizer.step()\n",
        "\n",
        "\n"
      ],
      "metadata": {
        "id": "hOfkgN_p3WaA"
      },
      "execution_count": null,
      "outputs": []
    },
    {
      "cell_type": "markdown",
      "source": [
        "### Evaluation"
      ],
      "metadata": {
        "cell_id": "e383e8479b24456fb456a2b163651d8e",
        "tags": [],
        "deepnote_cell_type": "markdown",
        "deepnote_cell_height": 62,
        "id": "NGxuBpxx2tgw"
      }
    },
    {
      "cell_type": "markdown",
      "source": [
        "Show the overall accuracy of our model on the test dataset. Use the existing `accuracy` function that you implemented earlier."
      ],
      "metadata": {
        "cell_id": "12d63c77198848e08774450159eb4f5b",
        "tags": [],
        "deepnote_cell_type": "markdown",
        "deepnote_cell_height": 52.390625,
        "id": "kRnjFbCD2tgx"
      }
    },
    {
      "cell_type": "code",
      "source": [
        "# TODO\n",
        "predictions = ...\n",
        "accuracy_value = ...\n",
        "print(accuracy_value)"
      ],
      "metadata": {
        "cell_id": "f3491bbddfce45f3bbcac76872d99a7a",
        "tags": [],
        "deepnote_cell_type": "code",
        "deepnote_cell_height": 223,
        "id": "9ujmW5mT2tgx"
      },
      "execution_count": null,
      "outputs": []
    },
    {
      "cell_type": "markdown",
      "source": [
        "Print the confusion matrix using `sklearn.metrics.confusion_matrix`."
      ],
      "metadata": {
        "cell_id": "157c73719d994eb1a61b10d78034ae37",
        "tags": [],
        "deepnote_cell_type": "markdown",
        "deepnote_cell_height": 52.390625,
        "id": "qK4VI1br2tgx"
      }
    },
    {
      "cell_type": "code",
      "metadata": {
        "cell_id": "ce02ae5b924440b398b5ca899d94a6f6",
        "tags": [],
        "deepnote_cell_type": "code",
        "deepnote_cell_height": 97,
        "id": "8Tr40s4f2tgx"
      },
      "source": [
        "# TODO\n",
        "..."
      ],
      "execution_count": null,
      "outputs": []
    },
    {
      "cell_type": "markdown",
      "source": [
        "**Question**: Now also look at the confusion matrix, what can you conclude from it?"
      ],
      "metadata": {
        "cell_id": "cd41f0bd4689449b85001f94469b6dfb",
        "tags": [],
        "deepnote_cell_type": "markdown",
        "deepnote_cell_height": 52.390625,
        "id": "9gtdQkiC2tgx"
      }
    },
    {
      "cell_type": "markdown",
      "source": [
        "**Answer**: ..."
      ],
      "metadata": {
        "cell_id": "9bece33cdd404cd3bbf2c11a7ea557d5",
        "tags": [],
        "deepnote_cell_type": "markdown",
        "deepnote_cell_height": 52.390625,
        "id": "9gykcH6x2tgx"
      }
    },
    {
      "cell_type": "code",
      "source": [],
      "metadata": {
        "id": "40YpVK5KnxcZ"
      },
      "execution_count": null,
      "outputs": []
    }
  ],
  "nbformat": 4,
  "nbformat_minor": 0,
  "metadata": {
    "orig_nbformat": 2,
    "deepnote": {
      "is_reactive": false
    },
    "deepnote_notebook_id": "50c68a69-c321-4e24-b142-cdaa47048c60",
    "deepnote_execution_queue": [],
    "colab": {
      "provenance": [],
      "include_colab_link": true
    },
    "language_info": {
      "name": "python"
    },
    "kernelspec": {
      "name": "python3",
      "display_name": "Python 3"
    }
  }
}